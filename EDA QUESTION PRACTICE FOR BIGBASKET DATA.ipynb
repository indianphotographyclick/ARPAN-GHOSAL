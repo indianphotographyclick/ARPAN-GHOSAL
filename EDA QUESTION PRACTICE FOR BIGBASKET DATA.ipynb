{
 "cells": [
  {
   "cell_type": "markdown",
   "id": "8487a016-7a61-4752-9ef6-b882e8b03158",
   "metadata": {
    "jp-MarkdownHeadingCollapsed": true
   },
   "source": [
    "### IMPORT"
   ]
  },
  {
   "cell_type": "code",
   "execution_count": 1,
   "id": "cc3d3ab7-2a13-4e12-9755-eaf383a77277",
   "metadata": {},
   "outputs": [],
   "source": [
    "import numpy as np\n",
    "import pandas as pd\n",
    "import matplotlib.pyplot as plt\n",
    "import seaborn as sns"
   ]
  },
  {
   "cell_type": "markdown",
   "id": "75db4a32-e864-49b1-8b08-08dc18c99ce5",
   "metadata": {
    "jp-MarkdownHeadingCollapsed": true
   },
   "source": [
    "### Show the data"
   ]
  },
  {
   "cell_type": "code",
   "execution_count": 2,
   "id": "f4b78c77-7c63-45f7-ba85-10baa17e78d2",
   "metadata": {},
   "outputs": [
    {
     "data": {
      "text/html": [
       "<div>\n",
       "<style scoped>\n",
       "    .dataframe tbody tr th:only-of-type {\n",
       "        vertical-align: middle;\n",
       "    }\n",
       "\n",
       "    .dataframe tbody tr th {\n",
       "        vertical-align: top;\n",
       "    }\n",
       "\n",
       "    .dataframe thead th {\n",
       "        text-align: right;\n",
       "    }\n",
       "</style>\n",
       "<table border=\"1\" class=\"dataframe\">\n",
       "  <thead>\n",
       "    <tr style=\"text-align: right;\">\n",
       "      <th></th>\n",
       "      <th>ProductName</th>\n",
       "      <th>Brand</th>\n",
       "      <th>Price</th>\n",
       "      <th>DiscountPrice</th>\n",
       "      <th>Image_Url</th>\n",
       "      <th>Quantity</th>\n",
       "      <th>Category</th>\n",
       "      <th>SubCategory</th>\n",
       "      <th>Absolute_Url</th>\n",
       "    </tr>\n",
       "  </thead>\n",
       "  <tbody>\n",
       "    <tr>\n",
       "      <th>8203</th>\n",
       "      <td>Foil Alphabet Balloon - Letter V, Party Decor,...</td>\n",
       "      <td>Bvishal</td>\n",
       "      <td>49.0</td>\n",
       "      <td>25.0</td>\n",
       "      <td>https://www.bigbasket.com/media/uploads/p/l/40...</td>\n",
       "      <td>1 pc</td>\n",
       "      <td>Cleaning &amp; Household</td>\n",
       "      <td>Caps, Balloons &amp; Candles</td>\n",
       "      <td>https://www.bigbasket.com/pd/40237020/bvishal-...</td>\n",
       "    </tr>\n",
       "    <tr>\n",
       "      <th>8204</th>\n",
       "      <td>Decoration Balls - Used For Parties, Unique De...</td>\n",
       "      <td>Bvishal</td>\n",
       "      <td>399.0</td>\n",
       "      <td>249.0</td>\n",
       "      <td>https://www.bigbasket.com/media/uploads/p/l/40...</td>\n",
       "      <td>6 pcs</td>\n",
       "      <td>Cleaning &amp; Household</td>\n",
       "      <td>Decorations</td>\n",
       "      <td>https://www.bigbasket.com/pd/40237682/bvishal-...</td>\n",
       "    </tr>\n",
       "    <tr>\n",
       "      <th>8205</th>\n",
       "      <td>Foundation Blending Brush - 230</td>\n",
       "      <td>PAC</td>\n",
       "      <td>465.0</td>\n",
       "      <td>232.5</td>\n",
       "      <td>https://www.bigbasket.com/media/uploads/p/l/40...</td>\n",
       "      <td>1 pc</td>\n",
       "      <td>Beauty &amp; Hygiene</td>\n",
       "      <td>Makeup Accessories</td>\n",
       "      <td>https://www.bigbasket.com/pd/40175488/pac-foun...</td>\n",
       "    </tr>\n",
       "    <tr>\n",
       "      <th>8206</th>\n",
       "      <td>One Week Immunity Booster</td>\n",
       "      <td>The Healthy Company</td>\n",
       "      <td>799.0</td>\n",
       "      <td>799.0</td>\n",
       "      <td>https://www.bigbasket.com/media/uploads/p/l/40...</td>\n",
       "      <td>28 g</td>\n",
       "      <td>Beauty &amp; Hygiene</td>\n",
       "      <td>Supplements &amp; Proteins</td>\n",
       "      <td>https://www.bigbasket.com/pd/40200885/the-heal...</td>\n",
       "    </tr>\n",
       "    <tr>\n",
       "      <th>8207</th>\n",
       "      <td>Blush &amp; Glow - Green Apple Apricot Gel Scrub, ...</td>\n",
       "      <td>Lakme</td>\n",
       "      <td>250.0</td>\n",
       "      <td>175.0</td>\n",
       "      <td>https://www.bigbasket.com/media/uploads/p/l/40...</td>\n",
       "      <td>100 g</td>\n",
       "      <td>Beauty &amp; Hygiene</td>\n",
       "      <td>Face Care</td>\n",
       "      <td>https://www.bigbasket.com/pd/40224773/lakme-bl...</td>\n",
       "    </tr>\n",
       "  </tbody>\n",
       "</table>\n",
       "</div>"
      ],
      "text/plain": [
       "                                            ProductName                Brand  \\\n",
       "8203  Foil Alphabet Balloon - Letter V, Party Decor,...              Bvishal   \n",
       "8204  Decoration Balls - Used For Parties, Unique De...              Bvishal   \n",
       "8205                    Foundation Blending Brush - 230                  PAC   \n",
       "8206                          One Week Immunity Booster  The Healthy Company   \n",
       "8207  Blush & Glow - Green Apple Apricot Gel Scrub, ...                Lakme   \n",
       "\n",
       "      Price  DiscountPrice                                          Image_Url  \\\n",
       "8203   49.0           25.0  https://www.bigbasket.com/media/uploads/p/l/40...   \n",
       "8204  399.0          249.0  https://www.bigbasket.com/media/uploads/p/l/40...   \n",
       "8205  465.0          232.5  https://www.bigbasket.com/media/uploads/p/l/40...   \n",
       "8206  799.0          799.0  https://www.bigbasket.com/media/uploads/p/l/40...   \n",
       "8207  250.0          175.0  https://www.bigbasket.com/media/uploads/p/l/40...   \n",
       "\n",
       "     Quantity              Category               SubCategory  \\\n",
       "8203     1 pc  Cleaning & Household  Caps, Balloons & Candles   \n",
       "8204    6 pcs  Cleaning & Household               Decorations   \n",
       "8205     1 pc      Beauty & Hygiene        Makeup Accessories   \n",
       "8206     28 g      Beauty & Hygiene    Supplements & Proteins   \n",
       "8207    100 g      Beauty & Hygiene                 Face Care   \n",
       "\n",
       "                                           Absolute_Url  \n",
       "8203  https://www.bigbasket.com/pd/40237020/bvishal-...  \n",
       "8204  https://www.bigbasket.com/pd/40237682/bvishal-...  \n",
       "8205  https://www.bigbasket.com/pd/40175488/pac-foun...  \n",
       "8206  https://www.bigbasket.com/pd/40200885/the-heal...  \n",
       "8207  https://www.bigbasket.com/pd/40224773/lakme-bl...  "
      ]
     },
     "execution_count": 2,
     "metadata": {},
     "output_type": "execute_result"
    }
   ],
   "source": [
    "data = pd.read_csv(\"D:/PYTHON 2/DATA/JUN/BigBasket.csv\")\n",
    "data.tail()"
   ]
  },
  {
   "cell_type": "code",
   "execution_count": 3,
   "id": "7c1c4c8b-2270-42d3-ba64-feadbaf07815",
   "metadata": {},
   "outputs": [
    {
     "data": {
      "text/plain": [
       "Index(['ProductName', 'Brand', 'Price', 'DiscountPrice', 'Image_Url',\n",
       "       'Quantity', 'Category', 'SubCategory', 'Absolute_Url'],\n",
       "      dtype='object')"
      ]
     },
     "execution_count": 3,
     "metadata": {},
     "output_type": "execute_result"
    }
   ],
   "source": [
    "data.columns"
   ]
  },
  {
   "cell_type": "code",
   "execution_count": 4,
   "id": "298f05ec-93aa-40e6-9c7e-2cd9c6cf56e1",
   "metadata": {},
   "outputs": [
    {
     "data": {
      "text/plain": [
       "ProductName       object\n",
       "Brand             object\n",
       "Price            float64\n",
       "DiscountPrice    float64\n",
       "Image_Url         object\n",
       "Quantity          object\n",
       "Category          object\n",
       "SubCategory       object\n",
       "Absolute_Url      object\n",
       "dtype: object"
      ]
     },
     "execution_count": 4,
     "metadata": {},
     "output_type": "execute_result"
    }
   ],
   "source": [
    "data.dtypes"
   ]
  },
  {
   "cell_type": "code",
   "execution_count": 5,
   "id": "fafa67e4-09b7-46bc-a4c1-458f07a8cf1a",
   "metadata": {},
   "outputs": [
    {
     "data": {
      "text/plain": [
       "73872"
      ]
     },
     "execution_count": 5,
     "metadata": {},
     "output_type": "execute_result"
    }
   ],
   "source": [
    "data.size"
   ]
  },
  {
   "cell_type": "code",
   "execution_count": 6,
   "id": "799e2209-c777-4bee-97f2-a2926f6d1b64",
   "metadata": {},
   "outputs": [
    {
     "data": {
      "text/plain": [
       "ProductName      0\n",
       "Brand            0\n",
       "Price            0\n",
       "DiscountPrice    0\n",
       "Image_Url        0\n",
       "Quantity         0\n",
       "Category         0\n",
       "SubCategory      0\n",
       "Absolute_Url     0\n",
       "dtype: int64"
      ]
     },
     "execution_count": 6,
     "metadata": {},
     "output_type": "execute_result"
    }
   ],
   "source": [
    "data.isnull().sum()"
   ]
  },
  {
   "cell_type": "markdown",
   "id": "e7c81960-dc9b-458a-9d31-d33028d87ec6",
   "metadata": {
    "jp-MarkdownHeadingCollapsed": true
   },
   "source": [
    "### 1) How many unique brands are there? "
   ]
  },
  {
   "cell_type": "code",
   "execution_count": 7,
   "id": "0b9a8728-1bc3-4a0c-99d5-a98601015f06",
   "metadata": {},
   "outputs": [
    {
     "data": {
      "text/plain": [
       "842"
      ]
     },
     "execution_count": 7,
     "metadata": {},
     "output_type": "execute_result"
    }
   ],
   "source": [
    "len(data['Brand'].unique())"
   ]
  },
  {
   "cell_type": "markdown",
   "id": "9d0fe176-7a37-4fa6-8cea-5d65d553e47b",
   "metadata": {
    "jp-MarkdownHeadingCollapsed": true
   },
   "source": [
    "### 2) Which are the top 10 most frequent brands?"
   ]
  },
  {
   "cell_type": "code",
   "execution_count": 8,
   "id": "ddafbc68-18ef-4fe0-8efd-7e7aab8ced9e",
   "metadata": {},
   "outputs": [
    {
     "data": {
      "text/plain": [
       "Index(['ProductName', 'Brand', 'Price', 'DiscountPrice', 'Image_Url',\n",
       "       'Quantity', 'Category', 'SubCategory', 'Absolute_Url'],\n",
       "      dtype='object')"
      ]
     },
     "execution_count": 8,
     "metadata": {},
     "output_type": "execute_result"
    }
   ],
   "source": [
    "data.columns"
   ]
  },
  {
   "cell_type": "code",
   "execution_count": 9,
   "id": "fc78b294-a5ed-41a6-a264-9f3c740e2c90",
   "metadata": {},
   "outputs": [
    {
     "data": {
      "text/plain": [
       "Brand\n",
       "Fresho        479\n",
       "BB Royal      410\n",
       "BB Home       183\n",
       "Healthvit      98\n",
       "Soulflower     88\n",
       "DP             88\n",
       "GoodDiet       87\n",
       "Lakme          84\n",
       "Nivea          83\n",
       "BIOTIQUE       79\n",
       "Name: count, dtype: int64"
      ]
     },
     "execution_count": 9,
     "metadata": {},
     "output_type": "execute_result"
    }
   ],
   "source": [
    "data['Brand'].value_counts().head(10)"
   ]
  },
  {
   "cell_type": "markdown",
   "id": "32a65cc4-dd02-45be-89e3-024e9f35d3a7",
   "metadata": {
    "jp-MarkdownHeadingCollapsed": true
   },
   "source": [
    "### 3) What is the average discounts across all Product?"
   ]
  },
  {
   "cell_type": "code",
   "execution_count": 10,
   "id": "fa1d50bb-7a72-44e2-b7c0-416fb432506d",
   "metadata": {},
   "outputs": [
    {
     "data": {
      "text/plain": [
       "Index(['ProductName', 'Brand', 'Price', 'DiscountPrice', 'Image_Url',\n",
       "       'Quantity', 'Category', 'SubCategory', 'Absolute_Url'],\n",
       "      dtype='object')"
      ]
     },
     "execution_count": 10,
     "metadata": {},
     "output_type": "execute_result"
    }
   ],
   "source": [
    "data.columns"
   ]
  },
  {
   "cell_type": "code",
   "execution_count": 11,
   "id": "74c9aa01-a460-449f-aa64-d82cf89f17f6",
   "metadata": {},
   "outputs": [
    {
     "data": {
      "text/plain": [
       "np.float64(188.51062134502925)"
      ]
     },
     "execution_count": 11,
     "metadata": {},
     "output_type": "execute_result"
    }
   ],
   "source": [
    "(data['Price'] - data['DiscountPrice']).mean()"
   ]
  },
  {
   "cell_type": "markdown",
   "id": "c6ef11c9-cafd-4817-98ee-dd8c5299a984",
   "metadata": {
    "jp-MarkdownHeadingCollapsed": true
   },
   "source": [
    "### 4) Which Products have the Highest & lowest discount(Price-DiscountPrice)"
   ]
  },
  {
   "cell_type": "code",
   "execution_count": 12,
   "id": "e60191d6-0145-4bf3-b113-27256d9cb6df",
   "metadata": {},
   "outputs": [
    {
     "data": {
      "text/plain": [
       "Index(['ProductName', 'Brand', 'Price', 'DiscountPrice', 'Image_Url',\n",
       "       'Quantity', 'Category', 'SubCategory', 'Absolute_Url'],\n",
       "      dtype='object')"
      ]
     },
     "execution_count": 12,
     "metadata": {},
     "output_type": "execute_result"
    }
   ],
   "source": [
    "data.columns"
   ]
  },
  {
   "cell_type": "code",
   "execution_count": 13,
   "id": "fa899687-aa7b-457c-a2cb-58ad47ae7714",
   "metadata": {},
   "outputs": [
    {
     "data": {
      "text/plain": [
       "(ProductName      4 Burner Glaze MS Cook Top Gas Stove - Manual ...\n",
       " Brand                                                  Surya Flame\n",
       " Price                                                       8595.0\n",
       " DiscountPrice                                               3449.0\n",
       " Image_Url        https://www.bigbasket.com/media/uploads/p/l/40...\n",
       " Quantity                                                      1 pc\n",
       " Category                                    Kitchen, Garden & Pets\n",
       " SubCategory                                              Gas Stove\n",
       " Absolute_Url     https://www.bigbasket.com/pd/40212804/surya-fl...\n",
       " Discount                                                    5146.0\n",
       " Name: 7690, dtype: object,\n",
       " ProductName                                         Eggs - Regular\n",
       " Brand                                                       Fresho\n",
       " Price                                                        250.0\n",
       " DiscountPrice                                                250.0\n",
       " Image_Url        https://www.bigbasket.com/media/uploads/p/l/12...\n",
       " Quantity                                                   5x6 pcs\n",
       " Category                                         Eggs, Meat & Fish\n",
       " SubCategory                                              Farm Eggs\n",
       " Absolute_Url     https://www.bigbasket.com/pd/1205938/fresho-eg...\n",
       " Discount                                                       0.0\n",
       " Name: 9, dtype: object)"
      ]
     },
     "execution_count": 13,
     "metadata": {},
     "output_type": "execute_result"
    }
   ],
   "source": [
    "# First calculate the discount\n",
    "data['Discount'] = data['Price'] - data['DiscountPrice']\n",
    "\n",
    "# Find highest discount product\n",
    "Highest_Discount = data.loc[data['Discount'].idxmax()]\n",
    "\n",
    "# Find lowest discount product\n",
    "Lowest_Discount = data.loc[data['Discount'].idxmin()]\n",
    "Highest_Discount, Lowest_Discount"
   ]
  },
  {
   "cell_type": "markdown",
   "id": "a37b7202-f597-452d-82c2-8e256e02b264",
   "metadata": {
    "jp-MarkdownHeadingCollapsed": true
   },
   "source": [
    "### 5) What are the unique category & Subcategory?"
   ]
  },
  {
   "cell_type": "code",
   "execution_count": 14,
   "id": "dfa00da9-1e5f-4b0b-ac53-327b2863485a",
   "metadata": {},
   "outputs": [
    {
     "data": {
      "text/plain": [
       "Index(['ProductName', 'Brand', 'Price', 'DiscountPrice', 'Image_Url',\n",
       "       'Quantity', 'Category', 'SubCategory', 'Absolute_Url', 'Discount'],\n",
       "      dtype='object')"
      ]
     },
     "execution_count": 14,
     "metadata": {},
     "output_type": "execute_result"
    }
   ],
   "source": [
    "data.columns"
   ]
  },
  {
   "cell_type": "code",
   "execution_count": 15,
   "id": "d49564fc-d591-4a1f-9c6c-60b455aaf1d5",
   "metadata": {},
   "outputs": [
    {
     "data": {
      "text/plain": [
       "334"
      ]
     },
     "execution_count": 15,
     "metadata": {},
     "output_type": "execute_result"
    }
   ],
   "source": [
    "data[['Category', 'SubCategory']].drop_duplicates().shape[0]"
   ]
  },
  {
   "cell_type": "markdown",
   "id": "4a455c98-1e95-4a6d-9f4c-dddfb3b0dfc2",
   "metadata": {
    "jp-MarkdownHeadingCollapsed": true
   },
   "source": [
    "### 6) How many Products are there per category subcategory?"
   ]
  },
  {
   "cell_type": "code",
   "execution_count": 16,
   "id": "3744c655-ff36-432d-9c51-c885a173317e",
   "metadata": {},
   "outputs": [
    {
     "data": {
      "text/html": [
       "<div>\n",
       "<style scoped>\n",
       "    .dataframe tbody tr th:only-of-type {\n",
       "        vertical-align: middle;\n",
       "    }\n",
       "\n",
       "    .dataframe tbody tr th {\n",
       "        vertical-align: top;\n",
       "    }\n",
       "\n",
       "    .dataframe thead th {\n",
       "        text-align: right;\n",
       "    }\n",
       "</style>\n",
       "<table border=\"1\" class=\"dataframe\">\n",
       "  <thead>\n",
       "    <tr style=\"text-align: right;\">\n",
       "      <th></th>\n",
       "      <th>Category</th>\n",
       "      <th>SubCategory</th>\n",
       "      <th>ProductCount</th>\n",
       "    </tr>\n",
       "  </thead>\n",
       "  <tbody>\n",
       "    <tr>\n",
       "      <th>56</th>\n",
       "      <td>Beauty &amp; Hygiene</td>\n",
       "      <td>Face Care</td>\n",
       "      <td>825</td>\n",
       "    </tr>\n",
       "    <tr>\n",
       "      <th>81</th>\n",
       "      <td>Beauty &amp; Hygiene</td>\n",
       "      <td>Supplements &amp; Proteins</td>\n",
       "      <td>240</td>\n",
       "    </tr>\n",
       "    <tr>\n",
       "      <th>54</th>\n",
       "      <td>Beauty &amp; Hygiene</td>\n",
       "      <td>Face</td>\n",
       "      <td>207</td>\n",
       "    </tr>\n",
       "    <tr>\n",
       "      <th>42</th>\n",
       "      <td>Beauty &amp; Hygiene</td>\n",
       "      <td>Body Care</td>\n",
       "      <td>205</td>\n",
       "    </tr>\n",
       "    <tr>\n",
       "      <th>78</th>\n",
       "      <td>Beauty &amp; Hygiene</td>\n",
       "      <td>Shampoo &amp; Conditioner</td>\n",
       "      <td>201</td>\n",
       "    </tr>\n",
       "    <tr>\n",
       "      <th>...</th>\n",
       "      <td>...</td>\n",
       "      <td>...</td>\n",
       "      <td>...</td>\n",
       "    </tr>\n",
       "    <tr>\n",
       "      <th>309</th>\n",
       "      <td>Snacks &amp; Branded Foods</td>\n",
       "      <td>Gift Boxes</td>\n",
       "      <td>1</td>\n",
       "    </tr>\n",
       "    <tr>\n",
       "      <th>26</th>\n",
       "      <td>Bakery, Cakes &amp; Dairy</td>\n",
       "      <td>Muffins &amp; Cup Cakes</td>\n",
       "      <td>1</td>\n",
       "    </tr>\n",
       "    <tr>\n",
       "      <th>289</th>\n",
       "      <td>Kitchen, Garden &amp; Pets</td>\n",
       "      <td>Umbrella</td>\n",
       "      <td>1</td>\n",
       "    </tr>\n",
       "    <tr>\n",
       "      <th>329</th>\n",
       "      <td>Snacks &amp; Branded Foods</td>\n",
       "      <td>Salted Biscuits</td>\n",
       "      <td>1</td>\n",
       "    </tr>\n",
       "    <tr>\n",
       "      <th>333</th>\n",
       "      <td>Snacks &amp; Branded Foods</td>\n",
       "      <td>Vinegar</td>\n",
       "      <td>1</td>\n",
       "    </tr>\n",
       "  </tbody>\n",
       "</table>\n",
       "<p>334 rows × 3 columns</p>\n",
       "</div>"
      ],
      "text/plain": [
       "                   Category             SubCategory  ProductCount\n",
       "56         Beauty & Hygiene               Face Care           825\n",
       "81         Beauty & Hygiene  Supplements & Proteins           240\n",
       "54         Beauty & Hygiene                    Face           207\n",
       "42         Beauty & Hygiene               Body Care           205\n",
       "78         Beauty & Hygiene   Shampoo & Conditioner           201\n",
       "..                      ...                     ...           ...\n",
       "309  Snacks & Branded Foods              Gift Boxes             1\n",
       "26    Bakery, Cakes & Dairy     Muffins & Cup Cakes             1\n",
       "289  Kitchen, Garden & Pets                Umbrella             1\n",
       "329  Snacks & Branded Foods         Salted Biscuits             1\n",
       "333  Snacks & Branded Foods                 Vinegar             1\n",
       "\n",
       "[334 rows x 3 columns]"
      ]
     },
     "execution_count": 16,
     "metadata": {},
     "output_type": "execute_result"
    }
   ],
   "source": [
    "category_subcategory_counts = data.groupby(['Category', 'SubCategory']).size().reset_index(name='ProductCount')\n",
    "category_subcategory_counts.sort_values(by='ProductCount', ascending=False)"
   ]
  },
  {
   "cell_type": "markdown",
   "id": "67de7025-1981-4c7b-8a85-593ab0832265",
   "metadata": {
    "jp-MarkdownHeadingCollapsed": true
   },
   "source": [
    "### 7) Which category has the highest average discount?"
   ]
  },
  {
   "cell_type": "code",
   "execution_count": 17,
   "id": "c1365375-0a88-498a-aa19-14468ec7b01e",
   "metadata": {},
   "outputs": [
    {
     "data": {
      "text/plain": [
       "Index(['ProductName', 'Brand', 'Price', 'DiscountPrice', 'Image_Url',\n",
       "       'Quantity', 'Category', 'SubCategory', 'Absolute_Url', 'Discount'],\n",
       "      dtype='object')"
      ]
     },
     "execution_count": 17,
     "metadata": {},
     "output_type": "execute_result"
    }
   ],
   "source": [
    "data.columns"
   ]
  },
  {
   "cell_type": "code",
   "execution_count": 18,
   "id": "2f2bf47f-1816-4558-93f6-4f006dd67f43",
   "metadata": {},
   "outputs": [
    {
     "data": {
      "text/plain": [
       "<bound method Series.mean of 0        Fruits & Vegetables\n",
       "1        Fruits & Vegetables\n",
       "2        Fruits & Vegetables\n",
       "3        Fruits & Vegetables\n",
       "4        Fruits & Vegetables\n",
       "                ...         \n",
       "8203    Cleaning & Household\n",
       "8204    Cleaning & Household\n",
       "8205        Beauty & Hygiene\n",
       "8206        Beauty & Hygiene\n",
       "8207        Beauty & Hygiene\n",
       "Name: Category, Length: 8208, dtype: object>"
      ]
     },
     "execution_count": 18,
     "metadata": {},
     "output_type": "execute_result"
    }
   ],
   "source": [
    "data['Category'].mean"
   ]
  },
  {
   "cell_type": "markdown",
   "id": "832ce199-2fc0-4cae-8638-113483c28efc",
   "metadata": {
    "jp-MarkdownHeadingCollapsed": true
   },
   "source": [
    "### 8) What is the distribution of orginal and discounted prices?"
   ]
  },
  {
   "cell_type": "code",
   "execution_count": 20,
   "id": "20a8e87f-1e73-46da-845b-a35d843665e4",
   "metadata": {},
   "outputs": [
    {
     "data": {
      "image/png": "[encoded data removed]",
      "text/plain": [
       "<Figure size 1000x600 with 1 Axes>"
      ]
     },
     "metadata": {},
     "output_type": "display_data"
    }
   ],
   "source": [
    "plt.figure(figsize=(10, 6))\n",
    "plt.hist(data['Price'], bins=50, alpha=0.6, label='Original Price')\n",
    "plt.hist(data['DiscountPrice'], bins=50, alpha=0.6, label='Discounted Price')\n",
    "plt.xlabel('Price')\n",
    "plt.ylabel('Frequency')\n",
    "plt.title('Distribution of Original vs Discounted Prices')\n",
    "plt.legend()\n",
    "plt.show()"
   ]
  },
  {
   "cell_type": "markdown",
   "id": "c3a8349e-b0f7-434e-9d09-23607c0f6d0f",
   "metadata": {
    "jp-MarkdownHeadingCollapsed": true
   },
   "source": [
    "### 9) Is there any category where discounnted price are higher than orginal prices?"
   ]
  },
  {
   "cell_type": "code",
   "execution_count": 24,
   "id": "76e346d0-ba6e-452e-ae77-bfd80acd68a5",
   "metadata": {},
   "outputs": [
    {
     "data": {
      "text/html": [
       "<div>\n",
       "<style scoped>\n",
       "    .dataframe tbody tr th:only-of-type {\n",
       "        vertical-align: middle;\n",
       "    }\n",
       "\n",
       "    .dataframe tbody tr th {\n",
       "        vertical-align: top;\n",
       "    }\n",
       "\n",
       "    .dataframe thead th {\n",
       "        text-align: right;\n",
       "    }\n",
       "</style>\n",
       "<table border=\"1\" class=\"dataframe\">\n",
       "  <thead>\n",
       "    <tr style=\"text-align: right;\">\n",
       "      <th></th>\n",
       "      <th>ProductName</th>\n",
       "      <th>Brand</th>\n",
       "      <th>Price</th>\n",
       "      <th>DiscountPrice</th>\n",
       "      <th>Image_Url</th>\n",
       "      <th>Quantity</th>\n",
       "      <th>Category</th>\n",
       "      <th>SubCategory</th>\n",
       "      <th>Absolute_Url</th>\n",
       "      <th>Discount</th>\n",
       "    </tr>\n",
       "  </thead>\n",
       "  <tbody>\n",
       "  </tbody>\n",
       "</table>\n",
       "</div>"
      ],
      "text/plain": [
       "Empty DataFrame\n",
       "Columns: [ProductName, Brand, Price, DiscountPrice, Image_Url, Quantity, Category, SubCategory, Absolute_Url, Discount]\n",
       "Index: []"
      ]
     },
     "execution_count": 24,
     "metadata": {},
     "output_type": "execute_result"
    }
   ],
   "source": [
    "data[data['DiscountPrice'] > data['Price']]"
   ]
  },
  {
   "cell_type": "markdown",
   "id": "50e7bae7-444b-4b9e-af01-61e62e288536",
   "metadata": {
    "jp-MarkdownHeadingCollapsed": true
   },
   "source": [
    "### 10) Are there any dupilicate product entries(based on name,brand,quantity)?"
   ]
  },
  {
   "cell_type": "code",
   "execution_count": 26,
   "id": "8cd38874-9ba6-4d01-86a4-8b85fda10555",
   "metadata": {},
   "outputs": [
    {
     "data": {
      "text/html": [
       "<div>\n",
       "<style scoped>\n",
       "    .dataframe tbody tr th:only-of-type {\n",
       "        vertical-align: middle;\n",
       "    }\n",
       "\n",
       "    .dataframe tbody tr th {\n",
       "        vertical-align: top;\n",
       "    }\n",
       "\n",
       "    .dataframe thead th {\n",
       "        text-align: right;\n",
       "    }\n",
       "</style>\n",
       "<table border=\"1\" class=\"dataframe\">\n",
       "  <thead>\n",
       "    <tr style=\"text-align: right;\">\n",
       "      <th></th>\n",
       "      <th>ProductName</th>\n",
       "      <th>Brand</th>\n",
       "      <th>Price</th>\n",
       "      <th>DiscountPrice</th>\n",
       "      <th>Image_Url</th>\n",
       "      <th>Quantity</th>\n",
       "      <th>Category</th>\n",
       "      <th>SubCategory</th>\n",
       "      <th>Absolute_Url</th>\n",
       "      <th>Discount</th>\n",
       "    </tr>\n",
       "  </thead>\n",
       "  <tbody>\n",
       "    <tr>\n",
       "      <th>68</th>\n",
       "      <td>Original Extra Virgin Olive Oil</td>\n",
       "      <td>BORGES</td>\n",
       "      <td>1400.0</td>\n",
       "      <td>728.00</td>\n",
       "      <td>https://www.bigbasket.com/media/uploads/p/l/40...</td>\n",
       "      <td>1 L</td>\n",
       "      <td>Gourmet &amp; World Food</td>\n",
       "      <td>Extra Virgin Olive Oil</td>\n",
       "      <td>https://www.bigbasket.com/pd/40006250/borges-e...</td>\n",
       "      <td>672.00</td>\n",
       "    </tr>\n",
       "    <tr>\n",
       "      <th>120</th>\n",
       "      <td>Cream Beauty Bathing Bar, Has 1/4th Moisturizi...</td>\n",
       "      <td>Dove</td>\n",
       "      <td>472.0</td>\n",
       "      <td>401.00</td>\n",
       "      <td>https://www.bigbasket.com/media/uploads/p/l/40...</td>\n",
       "      <td>125 g</td>\n",
       "      <td>Beauty &amp; Hygiene</td>\n",
       "      <td>Bathing Bars &amp; Soaps</td>\n",
       "      <td>https://www.bigbasket.com/pd/40016743/dove-cre...</td>\n",
       "      <td>71.00</td>\n",
       "    </tr>\n",
       "    <tr>\n",
       "      <th>122</th>\n",
       "      <td>Cream Beauty Bathing Bar, Has 1/4th Moisturizi...</td>\n",
       "      <td>Dove</td>\n",
       "      <td>280.0</td>\n",
       "      <td>230.00</td>\n",
       "      <td>https://www.bigbasket.com/media/uploads/p/l/26...</td>\n",
       "      <td>125 g</td>\n",
       "      <td>Beauty &amp; Hygiene</td>\n",
       "      <td>Bathing Bars &amp; Soaps</td>\n",
       "      <td>https://www.bigbasket.com/pd/266706/dove-cream...</td>\n",
       "      <td>50.00</td>\n",
       "    </tr>\n",
       "    <tr>\n",
       "      <th>274</th>\n",
       "      <td>Chicken Curry Cut Without Skin 500 g + Chicken...</td>\n",
       "      <td>Fresho</td>\n",
       "      <td>623.0</td>\n",
       "      <td>400.00</td>\n",
       "      <td>https://www.bigbasket.com/media/uploads/p/l/12...</td>\n",
       "      <td>Combo</td>\n",
       "      <td>Eggs, Meat &amp; Fish</td>\n",
       "      <td>Fresh Chicken</td>\n",
       "      <td>https://www.bigbasket.com/pd/1221158/fresho-ch...</td>\n",
       "      <td>223.00</td>\n",
       "    </tr>\n",
       "    <tr>\n",
       "      <th>275</th>\n",
       "      <td>Chicken Curry Cut Without Skin 500 g + Chicken...</td>\n",
       "      <td>Fresho</td>\n",
       "      <td>623.0</td>\n",
       "      <td>400.00</td>\n",
       "      <td>https://www.bigbasket.com/media/uploads/p/l/12...</td>\n",
       "      <td>Combo</td>\n",
       "      <td>Eggs, Meat &amp; Fish</td>\n",
       "      <td>Fresh Chicken</td>\n",
       "      <td>https://www.bigbasket.com/pd/1221156/fresho-ch...</td>\n",
       "      <td>223.00</td>\n",
       "    </tr>\n",
       "    <tr>\n",
       "      <th>...</th>\n",
       "      <td>...</td>\n",
       "      <td>...</td>\n",
       "      <td>...</td>\n",
       "      <td>...</td>\n",
       "      <td>...</td>\n",
       "      <td>...</td>\n",
       "      <td>...</td>\n",
       "      <td>...</td>\n",
       "      <td>...</td>\n",
       "      <td>...</td>\n",
       "    </tr>\n",
       "    <tr>\n",
       "      <th>7345</th>\n",
       "      <td>Radiant Liquid Shadow</td>\n",
       "      <td>Nicka K</td>\n",
       "      <td>549.0</td>\n",
       "      <td>274.50</td>\n",
       "      <td>https://www.bigbasket.com/media/uploads/p/l/40...</td>\n",
       "      <td>5 g</td>\n",
       "      <td>Beauty &amp; Hygiene</td>\n",
       "      <td>Eyes</td>\n",
       "      <td>https://www.bigbasket.com/pd/40222349/nicka-k-...</td>\n",
       "      <td>274.50</td>\n",
       "    </tr>\n",
       "    <tr>\n",
       "      <th>7564</th>\n",
       "      <td>Lip Bomb</td>\n",
       "      <td>Blue Heaven</td>\n",
       "      <td>125.0</td>\n",
       "      <td>77.50</td>\n",
       "      <td>https://www.bigbasket.com/media/uploads/p/l/40...</td>\n",
       "      <td>8 g</td>\n",
       "      <td>Beauty &amp; Hygiene</td>\n",
       "      <td>Lip Care</td>\n",
       "      <td>https://www.bigbasket.com/pd/40188472/blue-hea...</td>\n",
       "      <td>47.50</td>\n",
       "    </tr>\n",
       "    <tr>\n",
       "      <th>7565</th>\n",
       "      <td>Lip Bomb</td>\n",
       "      <td>Blue Heaven</td>\n",
       "      <td>125.0</td>\n",
       "      <td>80.00</td>\n",
       "      <td>https://www.bigbasket.com/media/uploads/p/l/40...</td>\n",
       "      <td>8 g</td>\n",
       "      <td>Beauty &amp; Hygiene</td>\n",
       "      <td>Lip Care</td>\n",
       "      <td>https://www.bigbasket.com/pd/40188473/blue-hea...</td>\n",
       "      <td>45.00</td>\n",
       "    </tr>\n",
       "    <tr>\n",
       "      <th>7853</th>\n",
       "      <td>Super Lustrous Matte Lipstick</td>\n",
       "      <td>Revlon</td>\n",
       "      <td>699.0</td>\n",
       "      <td>524.00</td>\n",
       "      <td>https://www.bigbasket.com/media/uploads/p/l/40...</td>\n",
       "      <td>4.2 g</td>\n",
       "      <td>Beauty &amp; Hygiene</td>\n",
       "      <td>Lips</td>\n",
       "      <td>https://www.bigbasket.com/pd/40066900/revlon-s...</td>\n",
       "      <td>175.00</td>\n",
       "    </tr>\n",
       "    <tr>\n",
       "      <th>8117</th>\n",
       "      <td>Anti Microbial Plant Based Liquid Laundry Dete...</td>\n",
       "      <td>Born Good</td>\n",
       "      <td>269.0</td>\n",
       "      <td>174.85</td>\n",
       "      <td>https://www.bigbasket.com/media/uploads/p/l/40...</td>\n",
       "      <td>450 ml</td>\n",
       "      <td>Cleaning &amp; Household</td>\n",
       "      <td>Detergent Powder, Liquid</td>\n",
       "      <td>https://www.bigbasket.com/pd/40208392/born-goo...</td>\n",
       "      <td>94.15</td>\n",
       "    </tr>\n",
       "  </tbody>\n",
       "</table>\n",
       "<p>193 rows × 10 columns</p>\n",
       "</div>"
      ],
      "text/plain": [
       "                                            ProductName        Brand   Price  \\\n",
       "68                      Original Extra Virgin Olive Oil       BORGES  1400.0   \n",
       "120   Cream Beauty Bathing Bar, Has 1/4th Moisturizi...         Dove   472.0   \n",
       "122   Cream Beauty Bathing Bar, Has 1/4th Moisturizi...         Dove   280.0   \n",
       "274   Chicken Curry Cut Without Skin 500 g + Chicken...       Fresho   623.0   \n",
       "275   Chicken Curry Cut Without Skin 500 g + Chicken...       Fresho   623.0   \n",
       "...                                                 ...          ...     ...   \n",
       "7345                              Radiant Liquid Shadow      Nicka K   549.0   \n",
       "7564                                           Lip Bomb  Blue Heaven   125.0   \n",
       "7565                                           Lip Bomb  Blue Heaven   125.0   \n",
       "7853                      Super Lustrous Matte Lipstick       Revlon   699.0   \n",
       "8117  Anti Microbial Plant Based Liquid Laundry Dete...    Born Good   269.0   \n",
       "\n",
       "      DiscountPrice                                          Image_Url  \\\n",
       "68           728.00  https://www.bigbasket.com/media/uploads/p/l/40...   \n",
       "120          401.00  https://www.bigbasket.com/media/uploads/p/l/40...   \n",
       "122          230.00  https://www.bigbasket.com/media/uploads/p/l/26...   \n",
       "274          400.00  https://www.bigbasket.com/media/uploads/p/l/12...   \n",
       "275          400.00  https://www.bigbasket.com/media/uploads/p/l/12...   \n",
       "...             ...                                                ...   \n",
       "7345         274.50  https://www.bigbasket.com/media/uploads/p/l/40...   \n",
       "7564          77.50  https://www.bigbasket.com/media/uploads/p/l/40...   \n",
       "7565          80.00  https://www.bigbasket.com/media/uploads/p/l/40...   \n",
       "7853         524.00  https://www.bigbasket.com/media/uploads/p/l/40...   \n",
       "8117         174.85  https://www.bigbasket.com/media/uploads/p/l/40...   \n",
       "\n",
       "     Quantity              Category               SubCategory  \\\n",
       "68        1 L  Gourmet & World Food    Extra Virgin Olive Oil   \n",
       "120     125 g      Beauty & Hygiene      Bathing Bars & Soaps   \n",
       "122     125 g      Beauty & Hygiene      Bathing Bars & Soaps   \n",
       "274     Combo     Eggs, Meat & Fish             Fresh Chicken   \n",
       "275     Combo     Eggs, Meat & Fish             Fresh Chicken   \n",
       "...       ...                   ...                       ...   \n",
       "7345      5 g      Beauty & Hygiene                      Eyes   \n",
       "7564      8 g      Beauty & Hygiene                  Lip Care   \n",
       "7565      8 g      Beauty & Hygiene                  Lip Care   \n",
       "7853    4.2 g      Beauty & Hygiene                      Lips   \n",
       "8117   450 ml  Cleaning & Household  Detergent Powder, Liquid   \n",
       "\n",
       "                                           Absolute_Url  Discount  \n",
       "68    https://www.bigbasket.com/pd/40006250/borges-e...    672.00  \n",
       "120   https://www.bigbasket.com/pd/40016743/dove-cre...     71.00  \n",
       "122   https://www.bigbasket.com/pd/266706/dove-cream...     50.00  \n",
       "274   https://www.bigbasket.com/pd/1221158/fresho-ch...    223.00  \n",
       "275   https://www.bigbasket.com/pd/1221156/fresho-ch...    223.00  \n",
       "...                                                 ...       ...  \n",
       "7345  https://www.bigbasket.com/pd/40222349/nicka-k-...    274.50  \n",
       "7564  https://www.bigbasket.com/pd/40188472/blue-hea...     47.50  \n",
       "7565  https://www.bigbasket.com/pd/40188473/blue-hea...     45.00  \n",
       "7853  https://www.bigbasket.com/pd/40066900/revlon-s...    175.00  \n",
       "8117  https://www.bigbasket.com/pd/40208392/born-goo...     94.15  \n",
       "\n",
       "[193 rows x 10 columns]"
      ]
     },
     "execution_count": 26,
     "metadata": {},
     "output_type": "execute_result"
    }
   ],
   "source": [
    "data[data.duplicated(subset=['ProductName', 'Brand', 'Quantity'], keep=False)]"
   ]
  },
  {
   "cell_type": "markdown",
   "id": "76fe4062-52e2-49b6-b5dc-bbcf5b7fbc07",
   "metadata": {},
   "source": [
    "### Advance Question "
   ]
  },
  {
   "cell_type": "markdown",
   "id": "837651b1-857f-40ad-97b6-11135fdd0054",
   "metadata": {
    "jp-MarkdownHeadingCollapsed": true
   },
   "source": [
    "### 1) Create A Column and Find which Product Have The Top 5 Highest Discounts."
   ]
  },
  {
   "cell_type": "code",
   "execution_count": 31,
   "id": "226c8163-2aba-4000-9199-136710fd7510",
   "metadata": {},
   "outputs": [],
   "source": [
    "data['Discount'] = data['Price'] - data['DiscountPrice']"
   ]
  },
  {
   "cell_type": "code",
   "execution_count": 32,
   "id": "31385365-2eb2-4d19-8512-54533c26c6c6",
   "metadata": {},
   "outputs": [],
   "source": [
    "Top5_Discounts = data.sort_values(by='Discount', ascending=False).head(5)"
   ]
  },
  {
   "cell_type": "code",
   "execution_count": 33,
   "id": "345020c4-747c-4c48-996b-6c906747701f",
   "metadata": {},
   "outputs": [
    {
     "data": {
      "text/html": [
       "<div>\n",
       "<style scoped>\n",
       "    .dataframe tbody tr th:only-of-type {\n",
       "        vertical-align: middle;\n",
       "    }\n",
       "\n",
       "    .dataframe tbody tr th {\n",
       "        vertical-align: top;\n",
       "    }\n",
       "\n",
       "    .dataframe thead th {\n",
       "        text-align: right;\n",
       "    }\n",
       "</style>\n",
       "<table border=\"1\" class=\"dataframe\">\n",
       "  <thead>\n",
       "    <tr style=\"text-align: right;\">\n",
       "      <th></th>\n",
       "      <th>ProductName</th>\n",
       "      <th>Brand</th>\n",
       "      <th>Price</th>\n",
       "      <th>DiscountPrice</th>\n",
       "      <th>Discount</th>\n",
       "    </tr>\n",
       "  </thead>\n",
       "  <tbody>\n",
       "    <tr>\n",
       "      <th>7690</th>\n",
       "      <td>4 Burner Glaze MS Cook Top Gas Stove - Manual ...</td>\n",
       "      <td>Surya Flame</td>\n",
       "      <td>8595.0</td>\n",
       "      <td>3449.0</td>\n",
       "      <td>5146.0</td>\n",
       "    </tr>\n",
       "    <tr>\n",
       "      <th>7689</th>\n",
       "      <td>3 Burner Glaze MS Cook Top Gas Stove - Manual ...</td>\n",
       "      <td>Surya Flame</td>\n",
       "      <td>7345.0</td>\n",
       "      <td>2699.0</td>\n",
       "      <td>4646.0</td>\n",
       "    </tr>\n",
       "    <tr>\n",
       "      <th>7950</th>\n",
       "      <td>Aluminium Non-Stick Ceramic Coated Magic Pan -...</td>\n",
       "      <td>Nirlon</td>\n",
       "      <td>6755.0</td>\n",
       "      <td>2499.0</td>\n",
       "      <td>4256.0</td>\n",
       "    </tr>\n",
       "    <tr>\n",
       "      <th>4785</th>\n",
       "      <td>Extra Light Olive Oil</td>\n",
       "      <td>Disano</td>\n",
       "      <td>7195.0</td>\n",
       "      <td>3165.8</td>\n",
       "      <td>4029.2</td>\n",
       "    </tr>\n",
       "    <tr>\n",
       "      <th>7440</th>\n",
       "      <td>Extra Light Olive Oil</td>\n",
       "      <td>Rafael Salgado</td>\n",
       "      <td>6999.0</td>\n",
       "      <td>2970.0</td>\n",
       "      <td>4029.0</td>\n",
       "    </tr>\n",
       "  </tbody>\n",
       "</table>\n",
       "</div>"
      ],
      "text/plain": [
       "                                            ProductName           Brand  \\\n",
       "7690  4 Burner Glaze MS Cook Top Gas Stove - Manual ...     Surya Flame   \n",
       "7689  3 Burner Glaze MS Cook Top Gas Stove - Manual ...     Surya Flame   \n",
       "7950  Aluminium Non-Stick Ceramic Coated Magic Pan -...          Nirlon   \n",
       "4785                              Extra Light Olive Oil          Disano   \n",
       "7440                              Extra Light Olive Oil  Rafael Salgado   \n",
       "\n",
       "       Price  DiscountPrice  Discount  \n",
       "7690  8595.0         3449.0    5146.0  \n",
       "7689  7345.0         2699.0    4646.0  \n",
       "7950  6755.0         2499.0    4256.0  \n",
       "4785  7195.0         3165.8    4029.2  \n",
       "7440  6999.0         2970.0    4029.0  "
      ]
     },
     "execution_count": 33,
     "metadata": {},
     "output_type": "execute_result"
    }
   ],
   "source": [
    "Top5_Discounts[['ProductName', 'Brand', 'Price', 'DiscountPrice', 'Discount']]"
   ]
  },
  {
   "cell_type": "markdown",
   "id": "ad51b35b-8f22-4431-a5be-857ee1f670c5",
   "metadata": {
    "jp-MarkdownHeadingCollapsed": true
   },
   "source": [
    "### 2) Analyze Price Differences Between Brands Within The Same Subcategory.  "
   ]
  },
  {
   "cell_type": "code",
   "execution_count": 34,
   "id": "78946759-797a-434e-b074-1ba67e35f879",
   "metadata": {},
   "outputs": [
    {
     "data": {
      "text/html": [
       "<div>\n",
       "<style scoped>\n",
       "    .dataframe tbody tr th:only-of-type {\n",
       "        vertical-align: middle;\n",
       "    }\n",
       "\n",
       "    .dataframe tbody tr th {\n",
       "        vertical-align: top;\n",
       "    }\n",
       "\n",
       "    .dataframe thead th {\n",
       "        text-align: right;\n",
       "    }\n",
       "</style>\n",
       "<table border=\"1\" class=\"dataframe\">\n",
       "  <thead>\n",
       "    <tr style=\"text-align: right;\">\n",
       "      <th></th>\n",
       "      <th>SubCategory</th>\n",
       "      <th>Brand</th>\n",
       "      <th>Price</th>\n",
       "      <th>DiscountPrice</th>\n",
       "    </tr>\n",
       "  </thead>\n",
       "  <tbody>\n",
       "    <tr>\n",
       "      <th>0</th>\n",
       "      <td>Adult Diapers</td>\n",
       "      <td>Friends</td>\n",
       "      <td>345.000000</td>\n",
       "      <td>264.450000</td>\n",
       "    </tr>\n",
       "    <tr>\n",
       "      <th>1</th>\n",
       "      <td>Adult Diapers</td>\n",
       "      <td>Lifree</td>\n",
       "      <td>600.000000</td>\n",
       "      <td>450.000000</td>\n",
       "    </tr>\n",
       "    <tr>\n",
       "      <th>2</th>\n",
       "      <td>Adult Diapers</td>\n",
       "      <td>Seni</td>\n",
       "      <td>649.000000</td>\n",
       "      <td>486.750000</td>\n",
       "    </tr>\n",
       "    <tr>\n",
       "      <th>3</th>\n",
       "      <td>Aerated, Still, Sparkling</td>\n",
       "      <td>ESTUARY</td>\n",
       "      <td>200.000000</td>\n",
       "      <td>150.000000</td>\n",
       "    </tr>\n",
       "    <tr>\n",
       "      <th>4</th>\n",
       "      <td>Aerated, Still, Sparkling</td>\n",
       "      <td>Kingfisher</td>\n",
       "      <td>50.000000</td>\n",
       "      <td>37.500000</td>\n",
       "    </tr>\n",
       "    <tr>\n",
       "      <th>...</th>\n",
       "      <td>...</td>\n",
       "      <td>...</td>\n",
       "      <td>...</td>\n",
       "      <td>...</td>\n",
       "    </tr>\n",
       "    <tr>\n",
       "      <th>1802</th>\n",
       "      <td>Women's Deodorants</td>\n",
       "      <td>Saba</td>\n",
       "      <td>249.000000</td>\n",
       "      <td>174.300000</td>\n",
       "    </tr>\n",
       "    <tr>\n",
       "      <th>1803</th>\n",
       "      <td>Women's Deodorants</td>\n",
       "      <td>Secret Temptation</td>\n",
       "      <td>448.500000</td>\n",
       "      <td>269.100000</td>\n",
       "    </tr>\n",
       "    <tr>\n",
       "      <th>1804</th>\n",
       "      <td>Women's Deodorants</td>\n",
       "      <td>Spinz</td>\n",
       "      <td>306.000000</td>\n",
       "      <td>168.848000</td>\n",
       "    </tr>\n",
       "    <tr>\n",
       "      <th>1805</th>\n",
       "      <td>Women's Deodorants</td>\n",
       "      <td>Yardley London</td>\n",
       "      <td>492.461538</td>\n",
       "      <td>306.605385</td>\n",
       "    </tr>\n",
       "    <tr>\n",
       "      <th>1806</th>\n",
       "      <td>Yogurt &amp; Shrikhand</td>\n",
       "      <td>Mamie Yova</td>\n",
       "      <td>50.833333</td>\n",
       "      <td>35.583333</td>\n",
       "    </tr>\n",
       "  </tbody>\n",
       "</table>\n",
       "<p>1807 rows × 4 columns</p>\n",
       "</div>"
      ],
      "text/plain": [
       "                    SubCategory              Brand       Price  DiscountPrice\n",
       "0                 Adult Diapers            Friends  345.000000     264.450000\n",
       "1                 Adult Diapers             Lifree  600.000000     450.000000\n",
       "2                 Adult Diapers               Seni  649.000000     486.750000\n",
       "3     Aerated, Still, Sparkling            ESTUARY  200.000000     150.000000\n",
       "4     Aerated, Still, Sparkling         Kingfisher   50.000000      37.500000\n",
       "...                         ...                ...         ...            ...\n",
       "1802         Women's Deodorants               Saba  249.000000     174.300000\n",
       "1803         Women's Deodorants  Secret Temptation  448.500000     269.100000\n",
       "1804         Women's Deodorants              Spinz  306.000000     168.848000\n",
       "1805         Women's Deodorants     Yardley London  492.461538     306.605385\n",
       "1806         Yogurt & Shrikhand         Mamie Yova   50.833333      35.583333\n",
       "\n",
       "[1807 rows x 4 columns]"
      ]
     },
     "execution_count": 34,
     "metadata": {},
     "output_type": "execute_result"
    }
   ],
   "source": [
    "data.groupby(['SubCategory', 'Brand'])[['Price', 'DiscountPrice']].mean().reset_index()"
   ]
  },
  {
   "cell_type": "code",
   "execution_count": 35,
   "id": "40d483a0-6f82-42a9-90eb-341131de36b5",
   "metadata": {},
   "outputs": [
    {
     "data": {
      "text/html": [
       "<div>\n",
       "<style scoped>\n",
       "    .dataframe tbody tr th:only-of-type {\n",
       "        vertical-align: middle;\n",
       "    }\n",
       "\n",
       "    .dataframe tbody tr th {\n",
       "        vertical-align: top;\n",
       "    }\n",
       "\n",
       "    .dataframe thead th {\n",
       "        text-align: right;\n",
       "    }\n",
       "</style>\n",
       "<table border=\"1\" class=\"dataframe\">\n",
       "  <thead>\n",
       "    <tr style=\"text-align: right;\">\n",
       "      <th></th>\n",
       "      <th>SubCategory</th>\n",
       "      <th>Brand</th>\n",
       "      <th>mean</th>\n",
       "      <th>std</th>\n",
       "      <th>min</th>\n",
       "      <th>max</th>\n",
       "    </tr>\n",
       "  </thead>\n",
       "  <tbody>\n",
       "    <tr>\n",
       "      <th>0</th>\n",
       "      <td>Adult Diapers</td>\n",
       "      <td>Friends</td>\n",
       "      <td>345.000000</td>\n",
       "      <td>325.269119</td>\n",
       "      <td>115.0</td>\n",
       "      <td>575.0</td>\n",
       "    </tr>\n",
       "    <tr>\n",
       "      <th>1</th>\n",
       "      <td>Adult Diapers</td>\n",
       "      <td>Lifree</td>\n",
       "      <td>600.000000</td>\n",
       "      <td>NaN</td>\n",
       "      <td>600.0</td>\n",
       "      <td>600.0</td>\n",
       "    </tr>\n",
       "    <tr>\n",
       "      <th>2</th>\n",
       "      <td>Adult Diapers</td>\n",
       "      <td>Seni</td>\n",
       "      <td>649.000000</td>\n",
       "      <td>NaN</td>\n",
       "      <td>649.0</td>\n",
       "      <td>649.0</td>\n",
       "    </tr>\n",
       "    <tr>\n",
       "      <th>3</th>\n",
       "      <td>Aerated, Still, Sparkling</td>\n",
       "      <td>ESTUARY</td>\n",
       "      <td>200.000000</td>\n",
       "      <td>NaN</td>\n",
       "      <td>200.0</td>\n",
       "      <td>200.0</td>\n",
       "    </tr>\n",
       "    <tr>\n",
       "      <th>4</th>\n",
       "      <td>Aerated, Still, Sparkling</td>\n",
       "      <td>Kingfisher</td>\n",
       "      <td>50.000000</td>\n",
       "      <td>NaN</td>\n",
       "      <td>50.0</td>\n",
       "      <td>50.0</td>\n",
       "    </tr>\n",
       "    <tr>\n",
       "      <th>...</th>\n",
       "      <td>...</td>\n",
       "      <td>...</td>\n",
       "      <td>...</td>\n",
       "      <td>...</td>\n",
       "      <td>...</td>\n",
       "      <td>...</td>\n",
       "    </tr>\n",
       "    <tr>\n",
       "      <th>1802</th>\n",
       "      <td>Women's Deodorants</td>\n",
       "      <td>Saba</td>\n",
       "      <td>249.000000</td>\n",
       "      <td>NaN</td>\n",
       "      <td>249.0</td>\n",
       "      <td>249.0</td>\n",
       "    </tr>\n",
       "    <tr>\n",
       "      <th>1803</th>\n",
       "      <td>Women's Deodorants</td>\n",
       "      <td>Secret Temptation</td>\n",
       "      <td>448.500000</td>\n",
       "      <td>211.424928</td>\n",
       "      <td>299.0</td>\n",
       "      <td>598.0</td>\n",
       "    </tr>\n",
       "    <tr>\n",
       "      <th>1804</th>\n",
       "      <td>Women's Deodorants</td>\n",
       "      <td>Spinz</td>\n",
       "      <td>306.000000</td>\n",
       "      <td>157.773572</td>\n",
       "      <td>195.0</td>\n",
       "      <td>585.0</td>\n",
       "    </tr>\n",
       "    <tr>\n",
       "      <th>1805</th>\n",
       "      <td>Women's Deodorants</td>\n",
       "      <td>Yardley London</td>\n",
       "      <td>492.461538</td>\n",
       "      <td>215.012641</td>\n",
       "      <td>225.0</td>\n",
       "      <td>900.0</td>\n",
       "    </tr>\n",
       "    <tr>\n",
       "      <th>1806</th>\n",
       "      <td>Yogurt &amp; Shrikhand</td>\n",
       "      <td>Mamie Yova</td>\n",
       "      <td>50.833333</td>\n",
       "      <td>34.119887</td>\n",
       "      <td>35.0</td>\n",
       "      <td>120.0</td>\n",
       "    </tr>\n",
       "  </tbody>\n",
       "</table>\n",
       "<p>1807 rows × 6 columns</p>\n",
       "</div>"
      ],
      "text/plain": [
       "                    SubCategory              Brand        mean         std  \\\n",
       "0                 Adult Diapers            Friends  345.000000  325.269119   \n",
       "1                 Adult Diapers             Lifree  600.000000         NaN   \n",
       "2                 Adult Diapers               Seni  649.000000         NaN   \n",
       "3     Aerated, Still, Sparkling            ESTUARY  200.000000         NaN   \n",
       "4     Aerated, Still, Sparkling         Kingfisher   50.000000         NaN   \n",
       "...                         ...                ...         ...         ...   \n",
       "1802         Women's Deodorants               Saba  249.000000         NaN   \n",
       "1803         Women's Deodorants  Secret Temptation  448.500000  211.424928   \n",
       "1804         Women's Deodorants              Spinz  306.000000  157.773572   \n",
       "1805         Women's Deodorants     Yardley London  492.461538  215.012641   \n",
       "1806         Yogurt & Shrikhand         Mamie Yova   50.833333   34.119887   \n",
       "\n",
       "        min    max  \n",
       "0     115.0  575.0  \n",
       "1     600.0  600.0  \n",
       "2     649.0  649.0  \n",
       "3     200.0  200.0  \n",
       "4      50.0   50.0  \n",
       "...     ...    ...  \n",
       "1802  249.0  249.0  \n",
       "1803  299.0  598.0  \n",
       "1804  195.0  585.0  \n",
       "1805  225.0  900.0  \n",
       "1806   35.0  120.0  \n",
       "\n",
       "[1807 rows x 6 columns]"
      ]
     },
     "execution_count": 35,
     "metadata": {},
     "output_type": "execute_result"
    }
   ],
   "source": [
    "data.groupby(['SubCategory', 'Brand'])['Price'].agg(['mean', 'std', 'min', 'max']).reset_index()"
   ]
  },
  {
   "cell_type": "code",
   "execution_count": null,
   "id": "dca18c4c-99f0-4836-b9d4-3bedc74d9d6c",
   "metadata": {},
   "outputs": [],
   "source": []
  }
 ],
 "metadata": {
  "kernelspec": {
   "display_name": "Python 3 (ipykernel)",
   "language": "python",
   "name": "python3"
  },
  "language_info": {
   "codemirror_mode": {
    "name": "ipython",
    "version": 3
   },
   "file_extension": ".py",
   "mimetype": "text/x-python",
   "name": "python",
   "nbconvert_exporter": "python",
   "pygments_lexer": "ipython3",
   "version": "3.11.0"
  }
 },
 "nbformat": 4,
 "nbformat_minor": 5
}
